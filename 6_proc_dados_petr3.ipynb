{
 "cells": [
  {
   "cell_type": "code",
   "execution_count": 2,
   "metadata": {},
   "outputs": [],
   "source": [
    "import pandas as pd\n",
    "import numpy as np"
   ]
  },
  {
   "cell_type": "code",
   "execution_count": 3,
   "metadata": {},
   "outputs": [],
   "source": [
    "basePath = \"./dados/PETR3/\"\n",
    "filename = \"PETR3.SA.csv\""
   ]
  },
  {
   "cell_type": "code",
   "execution_count": 5,
   "metadata": {},
   "outputs": [
    {
     "data": {
      "text/html": [
       "<div>\n",
       "<style scoped>\n",
       "    .dataframe tbody tr th:only-of-type {\n",
       "        vertical-align: middle;\n",
       "    }\n",
       "\n",
       "    .dataframe tbody tr th {\n",
       "        vertical-align: top;\n",
       "    }\n",
       "\n",
       "    .dataframe thead th {\n",
       "        text-align: right;\n",
       "    }\n",
       "</style>\n",
       "<table border=\"1\" class=\"dataframe\">\n",
       "  <thead>\n",
       "    <tr style=\"text-align: right;\">\n",
       "      <th></th>\n",
       "      <th>Date</th>\n",
       "      <th>Open</th>\n",
       "      <th>High</th>\n",
       "      <th>Low</th>\n",
       "      <th>Close</th>\n",
       "      <th>Adj Close</th>\n",
       "      <th>Volume</th>\n",
       "    </tr>\n",
       "  </thead>\n",
       "  <tbody>\n",
       "    <tr>\n",
       "      <th>0</th>\n",
       "      <td>2009-01-02</td>\n",
       "      <td>27.799999</td>\n",
       "      <td>30.080000</td>\n",
       "      <td>27.799999</td>\n",
       "      <td>29.860001</td>\n",
       "      <td>27.031439</td>\n",
       "      <td>3993700.0</td>\n",
       "    </tr>\n",
       "    <tr>\n",
       "      <th>1</th>\n",
       "      <td>2009-01-05</td>\n",
       "      <td>29.600000</td>\n",
       "      <td>31.059999</td>\n",
       "      <td>29.160000</td>\n",
       "      <td>30.520000</td>\n",
       "      <td>27.628916</td>\n",
       "      <td>3936200.0</td>\n",
       "    </tr>\n",
       "    <tr>\n",
       "      <th>2</th>\n",
       "      <td>2009-01-06</td>\n",
       "      <td>30.900000</td>\n",
       "      <td>31.580000</td>\n",
       "      <td>30.340000</td>\n",
       "      <td>31.020000</td>\n",
       "      <td>28.081553</td>\n",
       "      <td>3186900.0</td>\n",
       "    </tr>\n",
       "    <tr>\n",
       "      <th>3</th>\n",
       "      <td>2009-01-07</td>\n",
       "      <td>30.209999</td>\n",
       "      <td>30.450001</td>\n",
       "      <td>29.000000</td>\n",
       "      <td>29.400000</td>\n",
       "      <td>26.615011</td>\n",
       "      <td>3198500.0</td>\n",
       "    </tr>\n",
       "    <tr>\n",
       "      <th>4</th>\n",
       "      <td>2009-01-08</td>\n",
       "      <td>29.389999</td>\n",
       "      <td>30.950001</td>\n",
       "      <td>28.799999</td>\n",
       "      <td>30.950001</td>\n",
       "      <td>28.018185</td>\n",
       "      <td>2976900.0</td>\n",
       "    </tr>\n",
       "  </tbody>\n",
       "</table>\n",
       "</div>"
      ],
      "text/plain": [
       "         Date       Open       High        Low      Close  Adj Close  \\\n",
       "0  2009-01-02  27.799999  30.080000  27.799999  29.860001  27.031439   \n",
       "1  2009-01-05  29.600000  31.059999  29.160000  30.520000  27.628916   \n",
       "2  2009-01-06  30.900000  31.580000  30.340000  31.020000  28.081553   \n",
       "3  2009-01-07  30.209999  30.450001  29.000000  29.400000  26.615011   \n",
       "4  2009-01-08  29.389999  30.950001  28.799999  30.950001  28.018185   \n",
       "\n",
       "      Volume  \n",
       "0  3993700.0  \n",
       "1  3936200.0  \n",
       "2  3186900.0  \n",
       "3  3198500.0  \n",
       "4  2976900.0  "
      ]
     },
     "execution_count": 5,
     "metadata": {},
     "output_type": "execute_result"
    }
   ],
   "source": [
    "data = pd.read_csv(basePath + filename)\n",
    "df = pd.DataFrame(data)\n",
    "df.head()"
   ]
  },
  {
   "cell_type": "code",
   "execution_count": 7,
   "metadata": {},
   "outputs": [],
   "source": [
    "def dateFormat(date):\n",
    "    date_split = date.split(\"-\")\n",
    "    return \"/\".join(date_split)\n",
    "\n",
    "def getMeanValues(df_values):\n",
    "    values = []\n",
    "    for row in df_values:\n",
    "        values.append(row.mean())\n",
    "    return values"
   ]
  },
  {
   "cell_type": "code",
   "execution_count": 9,
   "metadata": {},
   "outputs": [],
   "source": [
    "new_df = pd.DataFrame()\n",
    "new_df[\"DATA\"] = df[\"Date\"].apply(lambda x: dateFormat(x))\n",
    "new_df[\"PETR3\"] = getMeanValues(df[[\"Open\", \"High\", \"Low\", \"Close\"]].values)\n",
    "new_df.to_csv(basePath + \"PETR3_DATA.csv\", sep=\",\", index=False)"
   ]
  }
 ],
 "metadata": {
  "kernelspec": {
   "display_name": "Python 3",
   "language": "python",
   "name": "python3"
  },
  "language_info": {
   "codemirror_mode": {
    "name": "ipython",
    "version": 3
   },
   "file_extension": ".py",
   "mimetype": "text/x-python",
   "name": "python",
   "nbconvert_exporter": "python",
   "pygments_lexer": "ipython3",
   "version": "3.7.3"
  }
 },
 "nbformat": 4,
 "nbformat_minor": 2
}
