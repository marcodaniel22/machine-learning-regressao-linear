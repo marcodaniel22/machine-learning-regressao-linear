{
 "cells": [
  {
   "cell_type": "code",
   "execution_count": 2,
   "metadata": {},
   "outputs": [],
   "source": [
    "import pandas as pd\n",
    "import numpy as np"
   ]
  },
  {
   "cell_type": "code",
   "execution_count": 4,
   "metadata": {},
   "outputs": [],
   "source": [
    "basePath = \"./dados/CLIMA/\"\n",
    "filename = \"NASA_CLIMA.csv\""
   ]
  },
  {
   "cell_type": "code",
   "execution_count": 6,
   "metadata": {},
   "outputs": [
    {
     "data": {
      "text/html": [
       "<div>\n",
       "<style scoped>\n",
       "    .dataframe tbody tr th:only-of-type {\n",
       "        vertical-align: middle;\n",
       "    }\n",
       "\n",
       "    .dataframe tbody tr th {\n",
       "        vertical-align: top;\n",
       "    }\n",
       "\n",
       "    .dataframe thead th {\n",
       "        text-align: right;\n",
       "    }\n",
       "</style>\n",
       "<table border=\"1\" class=\"dataframe\">\n",
       "  <thead>\n",
       "    <tr style=\"text-align: right;\">\n",
       "      <th></th>\n",
       "      <th>LAT</th>\n",
       "      <th>LONG</th>\n",
       "      <th>ANO</th>\n",
       "      <th>MES</th>\n",
       "      <th>DIA</th>\n",
       "      <th>PRECIPITACAO</th>\n",
       "      <th>PRESSAO_ATM</th>\n",
       "      <th>UMIDADE</th>\n",
       "      <th>TEMPERATURA</th>\n",
       "      <th>VEL_VENTO</th>\n",
       "      <th>RADIACAO_SOLAR</th>\n",
       "    </tr>\n",
       "  </thead>\n",
       "  <tbody>\n",
       "    <tr>\n",
       "      <th>0</th>\n",
       "      <td>-23.56549</td>\n",
       "      <td>-46.65789</td>\n",
       "      <td>2009</td>\n",
       "      <td>1</td>\n",
       "      <td>1</td>\n",
       "      <td>9.93</td>\n",
       "      <td>94.24</td>\n",
       "      <td>80.63</td>\n",
       "      <td>24.04</td>\n",
       "      <td>1.78</td>\n",
       "      <td>9.84</td>\n",
       "    </tr>\n",
       "    <tr>\n",
       "      <th>1</th>\n",
       "      <td>-23.56549</td>\n",
       "      <td>-46.65789</td>\n",
       "      <td>2009</td>\n",
       "      <td>1</td>\n",
       "      <td>2</td>\n",
       "      <td>13.46</td>\n",
       "      <td>94.04</td>\n",
       "      <td>89.95</td>\n",
       "      <td>21.99</td>\n",
       "      <td>1.97</td>\n",
       "      <td>9.97</td>\n",
       "    </tr>\n",
       "    <tr>\n",
       "      <th>2</th>\n",
       "      <td>-23.56549</td>\n",
       "      <td>-46.65789</td>\n",
       "      <td>2009</td>\n",
       "      <td>1</td>\n",
       "      <td>3</td>\n",
       "      <td>9.05</td>\n",
       "      <td>93.58</td>\n",
       "      <td>86.55</td>\n",
       "      <td>22.50</td>\n",
       "      <td>5.18</td>\n",
       "      <td>9.90</td>\n",
       "    </tr>\n",
       "    <tr>\n",
       "      <th>3</th>\n",
       "      <td>-23.56549</td>\n",
       "      <td>-46.65789</td>\n",
       "      <td>2009</td>\n",
       "      <td>1</td>\n",
       "      <td>4</td>\n",
       "      <td>9.26</td>\n",
       "      <td>94.06</td>\n",
       "      <td>84.82</td>\n",
       "      <td>18.53</td>\n",
       "      <td>5.65</td>\n",
       "      <td>9.25</td>\n",
       "    </tr>\n",
       "    <tr>\n",
       "      <th>4</th>\n",
       "      <td>-23.56549</td>\n",
       "      <td>-46.65789</td>\n",
       "      <td>2009</td>\n",
       "      <td>1</td>\n",
       "      <td>5</td>\n",
       "      <td>5.03</td>\n",
       "      <td>94.36</td>\n",
       "      <td>84.39</td>\n",
       "      <td>18.51</td>\n",
       "      <td>5.22</td>\n",
       "      <td>9.30</td>\n",
       "    </tr>\n",
       "  </tbody>\n",
       "</table>\n",
       "</div>"
      ],
      "text/plain": [
       "        LAT      LONG   ANO  MES  DIA  PRECIPITACAO  PRESSAO_ATM  UMIDADE  \\\n",
       "0 -23.56549 -46.65789  2009    1    1          9.93        94.24    80.63   \n",
       "1 -23.56549 -46.65789  2009    1    2         13.46        94.04    89.95   \n",
       "2 -23.56549 -46.65789  2009    1    3          9.05        93.58    86.55   \n",
       "3 -23.56549 -46.65789  2009    1    4          9.26        94.06    84.82   \n",
       "4 -23.56549 -46.65789  2009    1    5          5.03        94.36    84.39   \n",
       "\n",
       "   TEMPERATURA  VEL_VENTO  RADIACAO_SOLAR  \n",
       "0        24.04       1.78            9.84  \n",
       "1        21.99       1.97            9.97  \n",
       "2        22.50       5.18            9.90  \n",
       "3        18.53       5.65            9.25  \n",
       "4        18.51       5.22            9.30  "
      ]
     },
     "execution_count": 6,
     "metadata": {},
     "output_type": "execute_result"
    }
   ],
   "source": [
    "data = pd.read_csv(basePath + filename)\n",
    "df = pd.DataFrame(data)\n",
    "df.head()"
   ]
  },
  {
   "cell_type": "code",
   "execution_count": 95,
   "metadata": {},
   "outputs": [],
   "source": [
    "def dateFormat(args):\n",
    "    return \"%i/%02i/%02i\" % (args[0], args[1], args[2])"
   ]
  },
  {
   "cell_type": "code",
   "execution_count": 98,
   "metadata": {},
   "outputs": [],
   "source": [
    "new_df = pd.DataFrame()\n",
    "new_df[\"DATA\"] = df[[\"ANO\", \"MES\", \"DIA\"]].apply(dateFormat, axis=1)\n",
    "new_df[\"PRECIPITACAO\"] = df[\"PRECIPITACAO\"]\n",
    "new_df[\"PRESSAO_ATM\"] = df[\"PRESSAO_ATM\"]\n",
    "new_df[\"UMIDADE\"] = df[\"UMIDADE\"]\n",
    "new_df[\"TEMPERATURA\"] = df[\"TEMPERATURA\"]\n",
    "new_df[\"VEL_VENTO\"] = df[\"VEL_VENTO\"]\n",
    "new_df[\"RADIACAO_SOLAR\"] = df[\"RADIACAO_SOLAR\"]\n",
    "new_df.to_csv(basePath + \"CLIMA_DATA.csv\", sep=\",\", index=False)"
   ]
  }
 ],
 "metadata": {
  "kernelspec": {
   "display_name": "Python 3",
   "language": "python",
   "name": "python3"
  },
  "language_info": {
   "codemirror_mode": {
    "name": "ipython",
    "version": 3
   },
   "file_extension": ".py",
   "mimetype": "text/x-python",
   "name": "python",
   "nbconvert_exporter": "python",
   "pygments_lexer": "ipython3",
   "version": "3.7.3"
  }
 },
 "nbformat": 4,
 "nbformat_minor": 2
}
