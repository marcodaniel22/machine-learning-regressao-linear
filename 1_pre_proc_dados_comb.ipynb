{
 "cells": [
  {
   "cell_type": "code",
   "execution_count": 35,
   "metadata": {},
   "outputs": [],
   "source": [
    "# Imports de bibliotecas e definiçao de nomes dos arquivos\n",
    "import pandas as pd\n",
    "from tempfile import mkstemp\n",
    "from shutil import move\n",
    "from os import fdopen, remove\n",
    "import re\n",
    "\n",
    "# OBS: Estes arquivos sao os dados brutos baixados no site da ANP\n",
    "#      Cda arquivo tem emtorno de 50MB\n",
    "files = [\"2018-2_CA.csv\", \"2018-1_CA.csv\", \"2017-2_CA.csv\", \"2017-1_CA.csv\", \"2016-2_CA.csv\", \"2016-1_CA.csv\",\n",
    "        \"2015-2_CA.csv\", \"2015-1_CA.csv\", \"2014-2_CA.csv\", \"2014-1_CA.csv\", \"2013-2_CA.csv\", \"2013-1_CA.csv\",\n",
    "        \"2012-2_CA.csv\", \"2012-1_CA.csv\", \"2011-2_CA.csv\", \"2011-1_CA.csv\", \"2010-2_CA.csv\", \"2010-1_CA.csv\",\n",
    "        \"2009-2_CA.csv\", \"2009-1_CA.csv\"]"
   ]
  },
  {
   "cell_type": "code",
   "execution_count": 36,
   "metadata": {},
   "outputs": [],
   "source": [
    "# Definiçao de funçao que realiza o tratamento de erros nos dados baixados\n",
    "# Sem esses tratamentos nao é possivel utilizar a funçao read_csv do pandas\n",
    "def formatData(file_path):\n",
    "    fh, abs_path = mkstemp()\n",
    "    with fdopen(fh,'w', encoding=\"utf8\") as new_file:\n",
    "        with open(file_path, encoding=\"utf8\") as old_file:\n",
    "            for line in old_file:\n",
    "                new_line = line\n",
    "                new_line = re.sub(\"\\s{5,}\", \"  \", new_line)\n",
    "                new_line = re.sub(\"[.-]\", \"\", new_line)\n",
    "                new_line = re.sub(\",\", \".\", new_line)\n",
    "                new_line = re.sub(\"  \", \",\", new_line)\n",
    "                fields = re.split(\",\", new_line)\n",
    "                fields = fields[1:3] + fields[-6:-2]\n",
    "                new_line = \",\".join(fields) + \"\\n\"\n",
    "                new_file.write(new_line)\n",
    "    remove(file_path)\n",
    "    move(abs_path, file_path)"
   ]
  },
  {
   "cell_type": "code",
   "execution_count": 37,
   "metadata": {},
   "outputs": [],
   "source": [
    "# Executa a funçao acima\n",
    "basePath = \"./dados/\"\n",
    "for file in files:\n",
    "    formatData(basePath + file)"
   ]
  }
 ],
 "metadata": {
  "kernelspec": {
   "display_name": "Python 3",
   "language": "python",
   "name": "python3"
  },
  "language_info": {
   "codemirror_mode": {
    "name": "ipython",
    "version": 3
   },
   "file_extension": ".py",
   "mimetype": "text/x-python",
   "name": "python",
   "nbconvert_exporter": "python",
   "pygments_lexer": "ipython3",
   "version": "3.7.3"
  }
 },
 "nbformat": 4,
 "nbformat_minor": 2
}
