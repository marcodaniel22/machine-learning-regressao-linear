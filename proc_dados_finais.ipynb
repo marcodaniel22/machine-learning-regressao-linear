{
 "cells": [
  {
   "cell_type": "code",
   "execution_count": 1,
   "metadata": {},
   "outputs": [],
   "source": [
    "# imports de bibliotecas\n",
    "import pandas as pd\n",
    "import numpy as np\n",
    "from numpy import nan as NA"
   ]
  },
  {
   "cell_type": "code",
   "execution_count": 7,
   "metadata": {},
   "outputs": [],
   "source": [
    "# Definiçaod e caminhos e arquivos\n",
    "basePath = \"./dados/\"\n",
    "filePaths = [\n",
    "    \"COMBUSTIVEL/SP_COMB_DATA.csv\",\n",
    "    \"DOLAR/DOLAR_DATA.csv\"\n",
    "]"
   ]
  },
  {
   "cell_type": "code",
   "execution_count": 3,
   "metadata": {},
   "outputs": [],
   "source": [
    "# Funçao que le arquivos e armazena em uma lista de DataSets\n",
    "def getDataFiles():\n",
    "    data_frames = []\n",
    "    for filePath in filePaths:\n",
    "        data = pd.read_csv(basePath + filePath)\n",
    "        df = pd.DataFrame(data)\n",
    "        data_frames.append(df)\n",
    "    return data_frames"
   ]
  },
  {
   "cell_type": "code",
   "execution_count": 8,
   "metadata": {},
   "outputs": [],
   "source": [
    "# Uniao de dataframes e agrupamento dos registros por DATA\n",
    "data_frames = getDataFiles()\n",
    "df = pd.concat(data_frames, sort=False)\n",
    "df = df.groupby(\"DATA\",as_index =False).mean()\n",
    "\n",
    "# Salva arquivo final de dados utilizado no experimento\n",
    "df.to_csv(basePath + \"DATA.csv\", sep=\",\", index=False)"
   ]
  }
 ],
 "metadata": {
  "kernelspec": {
   "display_name": "Python 3",
   "language": "python",
   "name": "python3"
  },
  "language_info": {
   "codemirror_mode": {
    "name": "ipython",
    "version": 3
   },
   "file_extension": ".py",
   "mimetype": "text/x-python",
   "name": "python",
   "nbconvert_exporter": "python",
   "pygments_lexer": "ipython3",
   "version": "3.7.3"
  }
 },
 "nbformat": 4,
 "nbformat_minor": 2
}
