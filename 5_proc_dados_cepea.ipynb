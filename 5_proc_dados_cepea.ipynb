{
 "cells": [
  {
   "cell_type": "code",
   "execution_count": 1,
   "metadata": {},
   "outputs": [],
   "source": [
    "import pandas as pd\n",
    "import numpy as np"
   ]
  },
  {
   "cell_type": "code",
   "execution_count": 2,
   "metadata": {},
   "outputs": [],
   "source": [
    "basePath = \"./dados/CEPEA/\"\n",
    "csvFodler = \"XLS_CSV/\"\n",
    "# filenames = [\"ACUCAR\", \"BEZERRO\", \"BOI\", \"DOLAR\", \"FRANGO\", \"MILHO\", \"SUINO\"]\n",
    "filenames = [\"ACUCAR\"]"
   ]
  },
  {
   "cell_type": "code",
   "execution_count": 3,
   "metadata": {},
   "outputs": [],
   "source": [
    "def dateFormat(date):\n",
    "    date_split = date.split(\"/\")\n",
    "    return \"/\".join(date_split[::-1])"
   ]
  },
  {
   "cell_type": "code",
   "execution_count": 4,
   "metadata": {},
   "outputs": [],
   "source": [
    "def generateCsvFile(filename):\n",
    "    data = pd.read_csv(basePath + csvFodler + filename + \".csv\")\n",
    "    df = pd.DataFrame(data)\n",
    "    new_df = pd.DataFrame()\n",
    "    new_df[\"DATA\"] = df[\"DATA\"].apply(lambda x: dateFormat(x))\n",
    "    new_df[filename] = df[filename + \"_RS\"].astype(float)\n",
    "    new_df.to_csv(basePath + filename + \"_DATA.csv\", sep=\",\", index=False)"
   ]
  },
  {
   "cell_type": "code",
   "execution_count": 5,
   "metadata": {},
   "outputs": [],
   "source": [
    "for item in filenames:\n",
    "    generateCsvFile(item)"
   ]
  }
 ],
 "metadata": {
  "kernelspec": {
   "display_name": "Python 3",
   "language": "python",
   "name": "python3"
  },
  "language_info": {
   "codemirror_mode": {
    "name": "ipython",
    "version": 3
   },
   "file_extension": ".py",
   "mimetype": "text/x-python",
   "name": "python",
   "nbconvert_exporter": "python",
   "pygments_lexer": "ipython3",
   "version": "3.7.3"
  }
 },
 "nbformat": 4,
 "nbformat_minor": 2
}
