{
 "cells": [
  {
   "cell_type": "code",
   "execution_count": 2,
   "metadata": {},
   "outputs": [],
   "source": [
    "#Imports de bibliotecas\n",
    "import pandas as pd\n",
    "import numpy as np"
   ]
  },
  {
   "cell_type": "code",
   "execution_count": 27,
   "metadata": {},
   "outputs": [],
   "source": [
    "# Dados ja pre-processados e legiveis pela biblioteca pandas\n",
    "files = [\"2018-2_CA.csv\", \"2018-1_CA.csv\", \"2017-2_CA.csv\", \"2017-1_CA.csv\", \"2016-2_CA.csv\", \"2016-1_CA.csv\",\n",
    "        \"2015-2_CA.csv\", \"2015-1_CA.csv\", \"2014-2_CA.csv\", \"2014-1_CA.csv\", \"2013-2_CA.csv\", \"2013-1_CA.csv\",\n",
    "        \"2012-2_CA.csv\", \"2012-1_CA.csv\", \"2011-2_CA.csv\", \"2011-1_CA.csv\", \"2010-2_CA.csv\", \"2010-1_CA.csv\",\n",
    "        \"2009-2_CA.csv\", \"2009-1_CA.csv\"]\n",
    "basePath = \"./dados/\"\n",
    "\n",
    "# Definiçao dos campos que interessam no dataset\n",
    "fields = [\"Estado\", \"Cidade\", \"Produto\",\"Data\", \"Compra\", \"Venda\"]"
   ]
  },
  {
   "cell_type": "code",
   "execution_count": 12,
   "metadata": {},
   "outputs": [],
   "source": [
    "# Para cada arquivo, é abstraido os campos de interesso e salvos novamente em arquivo csv\n",
    "for file in files:\n",
    "    data = pd.read_csv(basePath + file)\n",
    "    df = pd.DataFrame(data)\n",
    "    df = df[df[\"Estado\"] == \"SP\"]\n",
    "    df.to_csv(basePath + \"SP/SP_\" + file, sep=\",\")"
   ]
  },
  {
   "cell_type": "code",
   "execution_count": 38,
   "metadata": {},
   "outputs": [],
   "source": [
    "# Neste procedimento é realizado a uniao de todos os arquivos em um unico dataset\n",
    "data_frames = []\n",
    "for file in files:\n",
    "    data = pd.read_csv(basePath + \"SP/SP_\" + file)\n",
    "    df = pd.DataFrame(data)\n",
    "    data_frames.append(df)\n",
    "df_union = pd.concat(data_frames, sort=False)\n",
    "df = df_union[fields].reset_index(drop=True)\n",
    "\n",
    "# Salva arquivo em formato csv\n",
    "df.to_csv(basePath + \"SP_DATA.csv\", sep=\",\", index=False)"
   ]
  }
 ],
 "metadata": {
  "kernelspec": {
   "display_name": "Python 3",
   "language": "python",
   "name": "python3"
  },
  "language_info": {
   "codemirror_mode": {
    "name": "ipython",
    "version": 3
   },
   "file_extension": ".py",
   "mimetype": "text/x-python",
   "name": "python",
   "nbconvert_exporter": "python",
   "pygments_lexer": "ipython3",
   "version": "3.7.3"
  }
 },
 "nbformat": 4,
 "nbformat_minor": 2
}
