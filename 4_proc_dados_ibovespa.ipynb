{
 "cells": [
  {
   "cell_type": "code",
   "execution_count": 2,
   "metadata": {},
   "outputs": [],
   "source": [
    "import pandas as pd\n",
    "import numpy as np"
   ]
  },
  {
   "cell_type": "code",
   "execution_count": 59,
   "metadata": {},
   "outputs": [],
   "source": [
    "basePath = \"./dados/IBOVESPA/\"\n",
    "filename = \"BVSP_YAHOO.csv\""
   ]
  },
  {
   "cell_type": "code",
   "execution_count": 60,
   "metadata": {},
   "outputs": [
    {
     "data": {
      "text/html": [
       "<div>\n",
       "<style scoped>\n",
       "    .dataframe tbody tr th:only-of-type {\n",
       "        vertical-align: middle;\n",
       "    }\n",
       "\n",
       "    .dataframe tbody tr th {\n",
       "        vertical-align: top;\n",
       "    }\n",
       "\n",
       "    .dataframe thead th {\n",
       "        text-align: right;\n",
       "    }\n",
       "</style>\n",
       "<table border=\"1\" class=\"dataframe\">\n",
       "  <thead>\n",
       "    <tr style=\"text-align: right;\">\n",
       "      <th></th>\n",
       "      <th>Date</th>\n",
       "      <th>Open</th>\n",
       "      <th>High</th>\n",
       "      <th>Low</th>\n",
       "      <th>Close</th>\n",
       "      <th>Adj Close</th>\n",
       "      <th>Volume</th>\n",
       "    </tr>\n",
       "  </thead>\n",
       "  <tbody>\n",
       "    <tr>\n",
       "      <th>0</th>\n",
       "      <td>2009-01-02</td>\n",
       "      <td>37550.0</td>\n",
       "      <td>40265.0</td>\n",
       "      <td>37550.0</td>\n",
       "      <td>40244.0</td>\n",
       "      <td>40244.0</td>\n",
       "      <td>1055200.0</td>\n",
       "    </tr>\n",
       "    <tr>\n",
       "      <th>1</th>\n",
       "      <td>2009-01-05</td>\n",
       "      <td>40243.0</td>\n",
       "      <td>41889.0</td>\n",
       "      <td>39526.0</td>\n",
       "      <td>41519.0</td>\n",
       "      <td>41519.0</td>\n",
       "      <td>1909200.0</td>\n",
       "    </tr>\n",
       "    <tr>\n",
       "      <th>2</th>\n",
       "      <td>2009-01-06</td>\n",
       "      <td>41520.0</td>\n",
       "      <td>42363.0</td>\n",
       "      <td>41520.0</td>\n",
       "      <td>42312.0</td>\n",
       "      <td>42312.0</td>\n",
       "      <td>1791000.0</td>\n",
       "    </tr>\n",
       "    <tr>\n",
       "      <th>3</th>\n",
       "      <td>2009-01-07</td>\n",
       "      <td>42308.0</td>\n",
       "      <td>42308.0</td>\n",
       "      <td>40563.0</td>\n",
       "      <td>40820.0</td>\n",
       "      <td>40820.0</td>\n",
       "      <td>1383600.0</td>\n",
       "    </tr>\n",
       "    <tr>\n",
       "      <th>4</th>\n",
       "      <td>2009-01-08</td>\n",
       "      <td>40819.0</td>\n",
       "      <td>41991.0</td>\n",
       "      <td>40251.0</td>\n",
       "      <td>41991.0</td>\n",
       "      <td>41991.0</td>\n",
       "      <td>1556000.0</td>\n",
       "    </tr>\n",
       "  </tbody>\n",
       "</table>\n",
       "</div>"
      ],
      "text/plain": [
       "         Date     Open     High      Low    Close  Adj Close     Volume\n",
       "0  2009-01-02  37550.0  40265.0  37550.0  40244.0    40244.0  1055200.0\n",
       "1  2009-01-05  40243.0  41889.0  39526.0  41519.0    41519.0  1909200.0\n",
       "2  2009-01-06  41520.0  42363.0  41520.0  42312.0    42312.0  1791000.0\n",
       "3  2009-01-07  42308.0  42308.0  40563.0  40820.0    40820.0  1383600.0\n",
       "4  2009-01-08  40819.0  41991.0  40251.0  41991.0    41991.0  1556000.0"
      ]
     },
     "execution_count": 60,
     "metadata": {},
     "output_type": "execute_result"
    }
   ],
   "source": [
    "data = pd.read_csv(basePath + filename)\n",
    "df = pd.DataFrame(data)\n",
    "df.head()"
   ]
  },
  {
   "cell_type": "code",
   "execution_count": 57,
   "metadata": {},
   "outputs": [],
   "source": [
    "def dateFormat(date):\n",
    "    date_split = date.split(\"-\")\n",
    "    return \"/\".join(date_split)\n",
    "\n",
    "def getMeanValues(df_values):\n",
    "    values = []\n",
    "    for row in df_values:\n",
    "        values.append(row.mean())\n",
    "    return values"
   ]
  },
  {
   "cell_type": "code",
   "execution_count": 61,
   "metadata": {},
   "outputs": [],
   "source": [
    "new_df = pd.DataFrame()\n",
    "new_df[\"DATA\"] = df[\"Date\"].apply(lambda x: dateFormat(x))\n",
    "new_df[\"BVSP\"] = getMeanValues(df[[\"Open\", \"High\", \"Low\", \"Close\"]].values)\n",
    "new_df.to_csv(basePath + \"BVSP_DATA.csv\", sep=\",\", index=False)"
   ]
  }
 ],
 "metadata": {
  "kernelspec": {
   "display_name": "Python 3",
   "language": "python",
   "name": "python3"
  },
  "language_info": {
   "codemirror_mode": {
    "name": "ipython",
    "version": 3
   },
   "file_extension": ".py",
   "mimetype": "text/x-python",
   "name": "python",
   "nbconvert_exporter": "python",
   "pygments_lexer": "ipython3",
   "version": "3.7.3"
  }
 },
 "nbformat": 4,
 "nbformat_minor": 2
}
